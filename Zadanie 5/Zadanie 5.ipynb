{
 "cells": [
  {
   "cell_type": "code",
   "execution_count": 1,
   "id": "385b81f0",
   "metadata": {},
   "outputs": [
    {
     "name": "stderr",
     "output_type": "stream",
     "text": [
      "c:\\Users\\PC COMPUTER\\AppData\\Local\\Programs\\Python\\Python311\\Lib\\site-packages\\tqdm\\auto.py:21: TqdmWarning: IProgress not found. Please update jupyter and ipywidgets. See https://ipywidgets.readthedocs.io/en/stable/user_install.html\n",
      "  from .autonotebook import tqdm as notebook_tqdm\n",
      "No model was supplied, defaulted to sshleifer/distilbart-cnn-12-6 and revision a4f8f3e (https://huggingface.co/sshleifer/distilbart-cnn-12-6).\n",
      "Using a pipeline without specifying a model name and revision in production is not recommended.\n",
      "c:\\Users\\PC COMPUTER\\AppData\\Local\\Programs\\Python\\Python311\\Lib\\site-packages\\huggingface_hub\\file_download.py:143: UserWarning: `huggingface_hub` cache-system uses symlinks by default to efficiently store duplicated files but your machine does not support them in C:\\Users\\PC COMPUTER\\.cache\\huggingface\\hub\\models--sshleifer--distilbart-cnn-12-6. Caching files will still work but in a degraded version that might require more space on your disk. This warning can be disabled by setting the `HF_HUB_DISABLE_SYMLINKS_WARNING` environment variable. For more details, see https://huggingface.co/docs/huggingface_hub/how-to-cache#limitations.\n",
      "To support symlinks on Windows, you either need to activate Developer Mode or to run Python as an administrator. In order to activate developer mode, see this article: https://docs.microsoft.com/en-us/windows/apps/get-started/enable-your-device-for-development\n",
      "  warnings.warn(message)\n",
      "Device set to use cpu\n"
     ]
    },
    {
     "name": "stdout",
     "output_type": "stream",
     "text": [
      "Oryginalny tekst wiadomości:\n",
      "\n",
      "Warszawa, Polska – 20 czerwca 2025 – Dzisiaj rano Sejm przyjął nowelizację ustawy o odnawialnych źródłach energii (OZE),\n",
      "która ma na celu przyspieszenie transformacji energetycznej kraju. Nowe przepisy wprowadzają uproszczone procedury\n",
      "dla inwestycji w farmy wiatrowe i fotowoltaiczne, a także zwiększają pulę dotacji dla gospodarstw domowych\n",
      "zainteresowanych montażem paneli słonecznych. Decyzja ta spotkała się z pozytywnym przyjęciem ze strony\n",
      "organizacji ekologicznych oraz przedstawicieli branży energetycznej, którzy podkreślają jej kluczowe znaczenie\n",
      "dla osiągnięcia celów klimatycznych Unii Europejskiej. Opozycja wyraziła pewne obawy dotyczące potencjalnego\n",
      "wpływu na lokalne społeczności, ale ostatecznie poparła projekt, widząc w nim krok w dobrą stronę.\n",
      "\n",
      "\n",
      "Streszczenie:\n",
      " Dzisiaj rano Sejm przyjął nowelizację ustawy o odnawialnych źródłach energii (OZE) Nowe przepisy wprowadzają uproszczone procedury inwestycji w farmy wiatrowe i fotowoltaiczne, a także zwi\n"
     ]
    }
   ],
   "source": [
    "import torch\n",
    "from transformers import pipeline\n",
    "\n",
    "# Inicjalizacja potoku streszczania.\n",
    "# Domyślnie używa modelu 'sshleifer/distilbart-cnn-12-6', który jest dobrym ogólnym wyborem.\n",
    "summarizer = pipeline(\"summarization\")\n",
    "\n",
    "# Przykładowy tekst wiadomości do streszczenia.\n",
    "# Możesz zastąpić ten tekst dowolną wiadomością informacyjną.\n",
    "news_text = \"\"\"\n",
    "Warszawa, Polska – 20 czerwca 2025 – Dzisiaj rano Sejm przyjął nowelizację ustawy o odnawialnych źródłach energii (OZE),\n",
    "która ma na celu przyspieszenie transformacji energetycznej kraju. Nowe przepisy wprowadzają uproszczone procedury\n",
    "dla inwestycji w farmy wiatrowe i fotowoltaiczne, a także zwiększają pulę dotacji dla gospodarstw domowych\n",
    "zainteresowanych montażem paneli słonecznych. Decyzja ta spotkała się z pozytywnym przyjęciem ze strony\n",
    "organizacji ekologicznych oraz przedstawicieli branży energetycznej, którzy podkreślają jej kluczowe znaczenie\n",
    "dla osiągnięcia celów klimatycznych Unii Europejskiej. Opozycja wyraziła pewne obawy dotyczące potencjalnego\n",
    "wpływu na lokalne społeczności, ale ostatecznie poparła projekt, widząc w nim krok w dobrą stronę.\n",
    "\"\"\"\n",
    "\n",
    "# Streszczenie tekstu.\n",
    "# Możesz dostosować parametry min_length i max_length, aby kontrolować długość streszczenia.\n",
    "summary = summarizer(news_text, min_length=30, max_length=100)\n",
    "\n",
    "# Wyświetlenie streszczenia.\n",
    "print(\"Oryginalny tekst wiadomości:\")\n",
    "print(news_text)\n",
    "print(\"\\nStreszczenie:\")\n",
    "print(summary[0]['summary_text'])"
   ]
  }
 ],
 "metadata": {
  "kernelspec": {
   "display_name": "Python 3",
   "language": "python",
   "name": "python3"
  },
  "language_info": {
   "codemirror_mode": {
    "name": "ipython",
    "version": 3
   },
   "file_extension": ".py",
   "mimetype": "text/x-python",
   "name": "python",
   "nbconvert_exporter": "python",
   "pygments_lexer": "ipython3",
   "version": "3.11.0"
  }
 },
 "nbformat": 4,
 "nbformat_minor": 5
}
