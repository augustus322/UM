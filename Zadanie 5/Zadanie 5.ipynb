{
 "cells": [
  {
   "cell_type": "code",
   "execution_count": 8,
   "id": "385b81f0",
   "metadata": {},
   "outputs": [
    {
     "name": "stderr",
     "output_type": "stream",
     "text": [
      "No model was supplied, defaulted to sshleifer/distilbart-cnn-12-6 and revision a4f8f3e (https://huggingface.co/sshleifer/distilbart-cnn-12-6).\n",
      "Using a pipeline without specifying a model name and revision in production is not recommended.\n",
      "Device set to use cpu\n"
     ]
    },
    {
     "name": "stdout",
     "output_type": "stream",
     "text": [
      "Oryginalny tekst wiadomości:\n",
      "\n",
      "The stock market showed mixed results this week as investors reacted to geopolitical tensions and uncertainty around Federal Reserve interest rate cuts. \n",
      "The S&P 500 dropped 0.22% to 5,967.84, marking its third consecutive decline, while the Nasdaq Composite fell 0.51% due to weakness in semiconductor stocks. \n",
      "The Dow Jones Industrial Average managed a slight gain of 0.08%, supported by select blue-chip companies.\n",
      "\n",
      "Geopolitical risks remained a key concern as tensions escalated in the Middle East, with potential military actions causing market volatility. \n",
      "Federal Reserve officials gave mixed signals about possible rate cuts, with some suggesting a July reduction while others emphasized caution. \n",
      "The semiconductor sector faced pressure after reports that the U.S. might restrict exports to China, impacting major chipmakers like Nvidia and TSMC.\n",
      "\n",
      "Several stocks saw significant movement. Circle's stock surged 18% after regulatory progress for stablecoins, while Kroger rose 10% on strong earnings. \n",
      "In contrast, Accenture dropped 7% due to weak demand in its consulting business. \n",
      "Tesla remained stable as investors awaited its upcoming robotaxi announcement, with analysts speculating about its long-term growth potential.\n",
      "\n",
      "Looking ahead, markets will focus on upcoming economic data, including the PCE inflation report, and earnings from major companies like FedEx and Nike. \n",
      "Analysts suggest that if geopolitical tensions ease and the Fed confirms rate cuts, the market could rebound toward record highs. \n",
      "Investors are advised to monitor these developments closely as they could significantly impact market direction in the coming weeks.\n",
      "\n",
      "\n",
      "Streszczenie:\n",
      " S&P 500 dropped 0.22% to 5,967.84, marking its third consecutive decline . Nasdaq Composite fell 0.51% due to weakness in semiconductor stocks . The Dow Jones Industrial Average managed a slight gain of 0.08%, supported by select blue-chip companies .\n"
     ]
    }
   ],
   "source": [
    "import torch\n",
    "from transformers import pipeline\n",
    "\n",
    "# Inicjalizacja potoku streszczania.\n",
    "summarizer = pipeline(\"summarization\")\n",
    "\n",
    "# Przykładowy tekst wiadomości do streszczenia.\n",
    "news_text = \"\"\"\n",
    "The stock market showed mixed results this week as investors reacted to geopolitical tensions and uncertainty around Federal Reserve interest rate cuts. \n",
    "The S&P 500 dropped 0.22% to 5,967.84, marking its third consecutive decline, while the Nasdaq Composite fell 0.51% due to weakness in semiconductor stocks. \n",
    "The Dow Jones Industrial Average managed a slight gain of 0.08%, supported by select blue-chip companies.\n",
    "\n",
    "Geopolitical risks remained a key concern as tensions escalated in the Middle East, with potential military actions causing market volatility. \n",
    "Federal Reserve officials gave mixed signals about possible rate cuts, with some suggesting a July reduction while others emphasized caution. \n",
    "The semiconductor sector faced pressure after reports that the U.S. might restrict exports to China, impacting major chipmakers like Nvidia and TSMC.\n",
    "\n",
    "Several stocks saw significant movement. Circle's stock surged 18% after regulatory progress for stablecoins, while Kroger rose 10% on strong earnings. \n",
    "In contrast, Accenture dropped 7% due to weak demand in its consulting business. \n",
    "Tesla remained stable as investors awaited its upcoming robotaxi announcement, with analysts speculating about its long-term growth potential.\n",
    "\n",
    "Looking ahead, markets will focus on upcoming economic data, including the PCE inflation report, and earnings from major companies like FedEx and Nike. \n",
    "Analysts suggest that if geopolitical tensions ease and the Fed confirms rate cuts, the market could rebound toward record highs. \n",
    "Investors are advised to monitor these developments closely as they could significantly impact market direction in the coming weeks.\n",
    "\"\"\"\n",
    "\n",
    "\n",
    "# Streszczenie tekstu.\n",
    "summary = summarizer(news_text, min_length=30, max_length=80)\n",
    "\n",
    "# Wyświetlenie streszczenia.\n",
    "print(\"Oryginalny tekst wiadomości:\")\n",
    "print(news_text)\n",
    "print(\"\\nStreszczenie:\")\n",
    "print(summary[0]['summary_text'])"
   ]
  }
 ],
 "metadata": {
  "kernelspec": {
   "display_name": "Python 3",
   "language": "python",
   "name": "python3"
  },
  "language_info": {
   "codemirror_mode": {
    "name": "ipython",
    "version": 3
   },
   "file_extension": ".py",
   "mimetype": "text/x-python",
   "name": "python",
   "nbconvert_exporter": "python",
   "pygments_lexer": "ipython3",
   "version": "3.11.0"
  }
 },
 "nbformat": 4,
 "nbformat_minor": 5
}
